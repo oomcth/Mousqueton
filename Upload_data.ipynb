{
 "cells": [
  {
   "cell_type": "code",
   "execution_count": 259,
   "id": "f9b0b68d-20ce-49bd-a5eb-fc9e50e4629d",
   "metadata": {},
   "outputs": [],
   "source": [
    "import numpy as np\n",
    "import pandas as pd "
   ]
  },
  {
   "cell_type": "code",
   "execution_count": 265,
   "id": "bfca1c10-e04e-4b0e-9c14-e89ea25d5519",
   "metadata": {},
   "outputs": [],
   "source": [
    "from neo4j import GraphDatabase\n",
    "\n",
    "driver = GraphDatabase.driver(\"bolt://34.79.35.240:7687\",\n",
    "                              auth=(\"neo4j\", \"azerty5\"))"
   ]
  },
  {
   "cell_type": "code",
   "execution_count": 266,
   "id": "0c640c97-a1fb-438e-9a91-2a01d5b2f7f5",
   "metadata": {},
   "outputs": [],
   "source": [
    "from os import listdir\n",
    "from os.path import isfile, join\n",
    "mypath = \"ethereum/data/transactions/\"\n",
    "onlyfiles = [f for f in listdir(mypath) if isfile(join(mypath, f))]"
   ]
  },
  {
   "cell_type": "code",
   "execution_count": null,
   "id": "eae21c27-2e20-437f-b1ca-b7a7bfce4cfe",
   "metadata": {},
   "outputs": [],
   "source": [
    "A = pd.read_csv(mypath+onlyfiles[0], delimiter = \";\")"
   ]
  },
  {
   "cell_type": "code",
   "execution_count": 291,
   "id": "c7f9e315-73e4-4ae4-a845-0e074ff6f09a",
   "metadata": {},
   "outputs": [],
   "source": [
    "class Transaction:\n",
    "\n",
    "    \"\"\" Attribut de classe \"\"\"\n",
    "\n",
    "    def __init__(self, ligne_tableau):\n",
    "        \n",
    "        self.hash = ligne_tableau.hash\n",
    "        self.from_addr = ligne_tableau.from_address\n",
    "        self.to_addr = ligne_tableau.to_address\n",
    "        self.value = float(ligne_tableau.value)*10**(-18)\n",
    "        self.gas_info = (ligne_tableau.gas, ligne_tableau.gas_price)\n",
    "\n",
    "        self.receip_status = \"Succès\" if ligne_tableau.receipt_status==1 else \"Échec\"\n",
    "        self.blocknumber = ligne_tableau.block_number\n",
    "        self.blockhash = ligne_tableau.block_hash\n",
    "        self.date = ligne_tableau.block_timestamp\n",
    "        self.contract_address = ligne_tableau.receipt_contract_address\n",
    "        self.transaction_type = \"\"\n",
    "    \n",
    "    \"\"\" Méthodes \"\"\"\n",
    "    \n",
    "    def is_smartcontract(self):\n",
    "        \n",
    "        if self.value == '0' : \n",
    "            return \"Éxecution de contrat\"\n",
    "        elif not pd.isnull(self.contract_address) : \n",
    "            return  \"Création de contrat\"\n",
    "        else : \n",
    "            return 'Transaction'\n",
    "\n",
    "        \n",
    "\n",
    "\n",
    "    def add_transac(self,tx, name, friend_name, value, time, transactionhash, transactionstate, gas, gasprice, issc, blockhash):\n",
    "        if name==friend_name:\n",
    "            tx.run(\"MERGE (a:Address {Hash: $name}) \"\n",
    "            \"MERGE (a)-[:SEND {Valeur : $value , Time_stamp : $time,Hash:$transactionhash, État : $transactionstate, Gas: $gas, Gas_price : $gasprice, Est_un_smart_contract : $issc, Block_hash : $blockhash}]->(a)\",\n",
    "            name=name, value=value, time=time,transactionhash=transactionhash,transactionstate=transactionstate, gas=gas, gasprice=gasprice, issc=issc, blockhash=blockhash)\n",
    "        else:\n",
    "            tx.run(\"MERGE (a:Address {Hash: $name}) \"\n",
    "                   \"MERGE (b:Address {Hash: $friend_name})\"\n",
    "            \"MERGE (a)-[:SEND {Valeur : $value,Time_stamp:$time, Hash:$transactionhash, État:$transactionstate, Gas: $gas, Gas_price : $gasprice, Est_un_smart_contract : $issc, Block_hash : $blockhash}]->(b)\",\n",
    "            name=name, value=value, friend_name=friend_name, time=time,transactionhash=transactionhash,transactionstate=transactionstate, gas=gas, gasprice=gasprice, issc=issc, blockhash=blockhash)\n",
    "         #transactionstate : $transactionstate, gas : $gas, gasprice : $gasprice, issc : $issc, blockhash : $blockhash}]->(b)\",\n",
    "\n",
    "    def existe(self,tx,hash):\n",
    "        query = (\"MATCH (a:Address) WHERE a.Hash = $hash \"\n",
    "                    \"RETURN a.Hash\")\n",
    "        for record in tx.run(query, hash=hash):\n",
    "            return record['a.Hash'] == hash \n",
    "        return False\n",
    "\n",
    "    def create(self,tx,hash):\n",
    "        def nickname(hash):\n",
    "            return hash[0:5]\n",
    "        query = (\"CREATE (\"+'A'+hash+\":Address {Hash : $hash} )\")\n",
    "        tx.run(query , hash=hash)\n",
    "\n",
    "    def toCypher(self):\n",
    "        \n",
    "#         if not driver.session().execute_read(self.existe, self.from_addr):\n",
    "#             driver.session().execute_write(self.create, self.from_addr)\n",
    "\n",
    "#         if not driver.session().execute_read(self.existe, self.to_addr):\n",
    "#             driver.session().execute_write(self.create, self.to_addr)\n",
    "        \n",
    "        driver.session().execute_write(self.add_transac,self.from_addr, self.to_addr, self.value,self.date, self.hash, str(self.receip_status), str(self.gas_info[0]), str(self.gas_info[1]), str(self.is_smartcontract()), str(self.blockhash))"
   ]
  },
  {
   "cell_type": "code",
   "execution_count": null,
   "id": "2eb0f243-0d4e-4dcd-b15a-204d4c4f4394",
   "metadata": {},
   "outputs": [
    {
     "name": "stderr",
     "output_type": "stream",
     "text": [
      "/opt/conda/lib/python3.7/site-packages/ipykernel_launcher.py:6: DeprecationWarning: time.clock has been deprecated in Python 3.3 and will be removed from Python 3.8: use time.perf_counter or time.process_time instead\n",
      "  \n"
     ]
    }
   ],
   "source": [
    "import time\n",
    "def f(x) :\n",
    "    Transaction(x).toCypher()\n",
    "\n",
    "for i in range(3,len(onlyfiles)):\n",
    "    t1=time.clock()\n",
    "    file = onlyfiles[i]\n",
    "    A = pd.read_csv(mypath+onlyfiles[i], delimiter = \";\")\n",
    "    A.apply(f, axis = 1)\n",
    "    t2 = time.clock()\n",
    "    print(t2-t1)\n"
   ]
  }
 ],
 "metadata": {
  "kernelspec": {
   "display_name": "Python 3",
   "language": "python",
   "name": "python3"
  },
  "language_info": {
   "codemirror_mode": {
    "name": "ipython",
    "version": 3
   },
   "file_extension": ".py",
   "mimetype": "text/x-python",
   "name": "python",
   "nbconvert_exporter": "python",
   "pygments_lexer": "ipython3",
   "version": "3.7.12"
  }
 },
 "nbformat": 4,
 "nbformat_minor": 5
}
